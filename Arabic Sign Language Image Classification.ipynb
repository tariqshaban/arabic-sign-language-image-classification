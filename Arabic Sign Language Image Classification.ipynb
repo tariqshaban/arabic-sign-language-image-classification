{
  "nbformat": 4,
  "nbformat_minor": 0,
  "metadata": {
    "colab": {
      "provenance": []
    },
    "kernelspec": {
      "name": "python3",
      "display_name": "Python 3"
    },
    "language_info": {
      "name": "python"
    },
    "accelerator": "GPU",
    "gpuClass": "standard"
  },
  "cells": [
    {
      "cell_type": "markdown",
      "metadata": {
        "id": "view-in-github",
        "colab_type": "text"
      },
      "source": [
        "<a href=\"https://colab.research.google.com/github/tariqshaban/arabic-sign-language-image-classification/blob/master/Arabic%20Sign%20Language%20Image%20Classification.ipynb\" target=\"_parent\"><img src=\"https://colab.research.google.com/assets/colab-badge.svg\" alt=\"Open In Colab\"/></a>"
      ]
    },
    {
      "cell_type": "markdown",
      "source": [
        "# Importing Dependencies"
      ],
      "metadata": {
        "id": "jJI--RFbZOnp"
      }
    },
    {
      "cell_type": "code",
      "source": [
        "# Display generic output messages\n",
        "!pip install colorama\n",
        "\n",
        "# Properly display Arabic characters in plots\n",
        "!pip install arabic_reshaper\n",
        "!pip install python-bidi\n",
        "\n",
        "# Download assets from the GitHub repository\n",
        "!apt install subversion\n",
        "!svn checkout https://github.com/tariqshaban/arabic-sign-language-image-classification/trunk/assets\n",
        "\n",
        "import arabic_reshaper\n",
        "import os\n",
        "import re\n",
        "import random\n",
        "import shutil\n",
        "import matplotlib.pyplot as plt\n",
        "import numpy as np\n",
        "import pandas as pd\n",
        "import seaborn as sns\n",
        "import tensorflow as tf\n",
        "\n",
        "from bidi.algorithm import get_display\n",
        "from colorama import Fore, Back, Style\n",
        "from enum import Enum\n",
        "from keras import activations\n",
        "from keras.callbacks import EarlyStopping\n",
        "from tensorflow.keras import layers\n",
        "from keras.utils import plot_model\n",
        "from keras.models import Sequential\n",
        "from keras_preprocessing.image import ImageDataGenerator\n",
        "from sklearn.metrics import confusion_matrix\n",
        "from tensorflow.keras.applications.efficientnet import EfficientNetB0\n",
        "from glob import glob\n",
        "from IPython.display import Image, display, clear_output\n",
        "\n",
        "# Helps to finalize the seed\n",
        "os.environ['TF_DETERMINISTIC_OPS'] = '1'\n",
        "os.environ['TF_CUDNN_DETERMINISTIC'] = '1'\n",
        "tf.config.threading.set_inter_op_parallelism_threads(1)\n",
        "tf.config.threading.set_intra_op_parallelism_threads(1)\n",
        "tf.random.set_seed(1)\n",
        "\n",
        "clear_output()\n",
        "print(Fore.GREEN + u'\\u2713 ' + 'Successfully downloaded dependencies.')    \n",
        "print(Style.RESET_ALL)"
      ],
      "metadata": {
        "id": "yEMk5leUZRyh"
      },
      "execution_count": null,
      "outputs": []
    },
    {
      "cell_type": "markdown",
      "source": [
        "# Enumerations"
      ],
      "metadata": {
        "id": "PH9tBUBl8M5B"
      }
    },
    {
      "cell_type": "markdown",
      "source": [
        "### Enumerating Neural Network Types"
      ],
      "metadata": {
        "id": "0Gvjnut_8Qbs"
      }
    },
    {
      "cell_type": "code",
      "source": [
        "class NeuralNetworkType(Enum):\n",
        "    FULLY_CONNECTED_NETWORK = 'FullyConnectedNetwork_INEFFECTIVE_SCRATCH'\n",
        "    CONVOLUTIONAL_NEURAL_NETWORK = 'ConvolutionalNeuralNetwork_SCRATCH'\n",
        "    CONVOLUTIONAL_NEURAL_NETWORK_WITH_TRANSFER_LEARNING = 'ConvolutionalNeuralNetworkWithTransferLearning'"
      ],
      "metadata": {
        "id": "InlV478U8QP6"
      },
      "execution_count": null,
      "outputs": []
    },
    {
      "cell_type": "markdown",
      "source": [
        "### Enumerating Neural Network Sizes"
      ],
      "metadata": {
        "id": "KnYzaYM9HKqM"
      }
    },
    {
      "cell_type": "code",
      "source": [
        "class NeuralNetworkSize(Enum):\n",
        "    NANO = 'Nano_INEFFECTIVE'\n",
        "    MICRO = 'Micro'\n",
        "    SMALL = 'Small'"
      ],
      "metadata": {
        "id": "Ok87tPEDHK3-"
      },
      "execution_count": null,
      "outputs": []
    },
    {
      "cell_type": "markdown",
      "source": [
        "### Enumerating Hidden Layer Activation Function Types"
      ],
      "metadata": {
        "id": "PGW00ipf8RET"
      }
    },
    {
      "cell_type": "code",
      "source": [
        "class HiddenLayerActivationFunctionType(Enum):\n",
        "    SIGMOID = 'Sigmoid_INTENSIVE'\n",
        "    TANH = 'Tanh_INTENSIVE'\n",
        "    RELU = 'ReLU'\n",
        "    LEAKY_RELU = 'LeakyReLU'"
      ],
      "metadata": {
        "id": "b7yufL7W8NJY"
      },
      "execution_count": null,
      "outputs": []
    },
    {
      "cell_type": "markdown",
      "source": [
        "### Enumerating Optimizers"
      ],
      "metadata": {
        "id": "zjOc3NpSB6MR"
      }
    },
    {
      "cell_type": "code",
      "source": [
        "class OptimizerType(Enum):\n",
        "    SGD = 'SGD'\n",
        "    RMS_PROP = 'RMSProp'\n",
        "    ADAM = 'Adam'"
      ],
      "metadata": {
        "id": "bkbnbtyiB6Yg"
      },
      "execution_count": null,
      "outputs": []
    },
    {
      "cell_type": "markdown",
      "source": [
        "# Global Variables"
      ],
      "metadata": {
        "id": "_Dw_FNXBeewu"
      }
    },
    {
      "cell_type": "code",
      "source": [
        "CLASSES_DF = pd.read_excel('./assets/Labels/ClassLabels.xlsx', index_col='ClassId')\n",
        "CLASSES_DF.sort_values('ClassAr', inplace=True)\n",
        "\n",
        "CLASSES = CLASSES_DF['Class'].to_list()\n",
        "CLASSES_AR = CLASSES_DF['ClassAr'].to_list()\n",
        "\n",
        "TRAIN_SPLIT = 0.7\n",
        "VALID_SPLIT = 0.2\n",
        "TEST_SPLIT = 0.1\n",
        "\n",
        "SOURCE_DIRECTORY = './assets/ArASL_Database_54K/'\n",
        "REFACTORED_DIRECTORY = './assets/refactored_data/'\n",
        "TRAIN_DIRECTORY = f'{REFACTORED_DIRECTORY}train/'\n",
        "VALID_DIRECTORY = f'{REFACTORED_DIRECTORY}valid/'\n",
        "TEST_DIRECTORY = f'{REFACTORED_DIRECTORY}test/'\n",
        "\n",
        "BASE_MODEL = EfficientNetB0(weights='imagenet', include_top=False)\n",
        "BASE_MODEL.trainable = False\n",
        "\n",
        "PREPROCESSING_METHOD = tf.keras.applications.efficientnet.preprocess_input"
      ],
      "metadata": {
        "id": "OV88E8Ssf_3E"
      },
      "execution_count": null,
      "outputs": []
    },
    {
      "cell_type": "markdown",
      "source": [
        "# Helper Methods"
      ],
      "metadata": {
        "id": "rUbND8r93Av0"
      }
    },
    {
      "cell_type": "markdown",
      "source": [
        "### Get Neural Network"
      ],
      "metadata": {
        "id": "Fyo-IBph4r49"
      }
    },
    {
      "cell_type": "code",
      "source": [
        "def get_neural_network():\n",
        "    if NEURAL_NETWORK_SIZE == NeuralNetworkSize.NANO:\n",
        "        scalar = 2\n",
        "    elif NEURAL_NETWORK_SIZE == NeuralNetworkSize.MICRO:\n",
        "        scalar = 4\n",
        "    elif NEURAL_NETWORK_SIZE == NeuralNetworkSize.SMALL:\n",
        "        scalar = 6\n",
        "\n",
        "    def _get_fully_connected_network_block(x):\n",
        "        return layers.Dense(pow(2, scalar - x + 6), activation=get_hidden_layer_activation_function())\n",
        "\n",
        "    def _get_convolutional_neural_network_block(x):\n",
        "        return [\n",
        "            layers.Conv2D(filters=pow(2, x + 4), kernel_size=3),\n",
        "            layers.BatchNormalization(),\n",
        "            layers.Activation(get_hidden_layer_activation_function()),\n",
        "            layers.MaxPooling2D((2, 2))\n",
        "        ]\n",
        "\n",
        "    def _get_convolutional_neural_network_with_transfer_learning_block(x):\n",
        "        return layers.Dense(pow(2, scalar - x + 4), activation=get_hidden_layer_activation_function())\n",
        "\n",
        "    if NEURAL_NETWORK_TYPE == NeuralNetworkType.FULLY_CONNECTED_NETWORK:\n",
        "        return \\\n",
        "            [layers.GlobalAveragePooling2D()] + \\\n",
        "            [_get_fully_connected_network_block(x) for x in range(1, scalar + 1)]\n",
        "    elif NEURAL_NETWORK_TYPE == NeuralNetworkType.CONVOLUTIONAL_NEURAL_NETWORK:\n",
        "        blocks = [_get_convolutional_neural_network_block(x) for x in range(1, scalar + 1)]\n",
        "        return \\\n",
        "            [layer for block in blocks for layer in block] + \\\n",
        "            [\n",
        "                layers.GlobalAveragePooling2D(),\n",
        "                layers.Dense(64, activation=get_hidden_layer_activation_function()),\n",
        "                layers.Dense(32, activation=get_hidden_layer_activation_function())\n",
        "            ]\n",
        "    elif NEURAL_NETWORK_TYPE == NeuralNetworkType.CONVOLUTIONAL_NEURAL_NETWORK_WITH_TRANSFER_LEARNING:\n",
        "        return \\\n",
        "            [\n",
        "                BASE_MODEL,\n",
        "                layers.GlobalAveragePooling2D(),\n",
        "                layers.Dropout(0.5),\n",
        "            ] + \\\n",
        "            [_get_convolutional_neural_network_with_transfer_learning_block(x) for x in range(1, scalar)]"
      ],
      "metadata": {
        "id": "HK_eOhcm4sHx"
      },
      "execution_count": null,
      "outputs": []
    },
    {
      "cell_type": "markdown",
      "source": [
        "### Get Hidden Layer Activation Function"
      ],
      "metadata": {
        "id": "fcImy3zlLG1B"
      }
    },
    {
      "cell_type": "code",
      "source": [
        "def get_hidden_layer_activation_function():\n",
        "    if HIDDEN_LAYER_ACTIVATION_FUNCTION_TYPE == HiddenLayerActivationFunctionType.SIGMOID:\n",
        "        return activations.sigmoid\n",
        "    elif HIDDEN_LAYER_ACTIVATION_FUNCTION_TYPE == HiddenLayerActivationFunctionType.TANH:\n",
        "        return activations.tanh\n",
        "    elif HIDDEN_LAYER_ACTIVATION_FUNCTION_TYPE == HiddenLayerActivationFunctionType.RELU:\n",
        "        return activations.relu\n",
        "    elif HIDDEN_LAYER_ACTIVATION_FUNCTION_TYPE == HiddenLayerActivationFunctionType.LEAKY_RELU:\n",
        "        return activations.leaky_relu"
      ],
      "metadata": {
        "id": "PPj7XDkaLHIr"
      },
      "execution_count": null,
      "outputs": []
    },
    {
      "cell_type": "markdown",
      "source": [
        "### Get Optimizer"
      ],
      "metadata": {
        "id": "Ahd49whsNXAS"
      }
    },
    {
      "cell_type": "code",
      "source": [
        "def get_optimizer():\n",
        "    if OPTIMIZER_TYPE == OptimizerType.SGD:\n",
        "        return tf.keras.optimizers.SGD()\n",
        "    elif OPTIMIZER_TYPE == OptimizerType.RMS_PROP:\n",
        "        return tf.keras.optimizers.RMSprop()\n",
        "    elif OPTIMIZER_TYPE == OptimizerType.ADAM:\n",
        "        return tf.keras.optimizers.Adam()"
      ],
      "metadata": {
        "id": "bPel4FTVNWtu"
      },
      "execution_count": null,
      "outputs": []
    },
    {
      "cell_type": "markdown",
      "source": [
        "### Finalize Seed"
      ],
      "metadata": {
        "id": "-bvirFR0UR-y"
      }
    },
    {
      "cell_type": "code",
      "source": [
        "def finalize_seed():\n",
        "    os.environ['PYTHONHASHSEED'] = str(SEED)\n",
        "    random.seed(SEED)\n",
        "    np.random.seed(SEED)"
      ],
      "metadata": {
        "id": "vNiHnAvuUSLn"
      },
      "execution_count": null,
      "outputs": []
    },
    {
      "cell_type": "markdown",
      "source": [
        "### Prime Dataset"
      ],
      "metadata": {
        "id": "9SqhCp8E4ItZ"
      }
    },
    {
      "cell_type": "code",
      "source": [
        "def prime_dataset():\n",
        "    if os.path.exists(REFACTORED_DIRECTORY):\n",
        "        shutil.rmtree(REFACTORED_DIRECTORY)\n",
        "\n",
        "    # Create Training, Validation, and Testing directories\n",
        "    for label in CLASSES:\n",
        "        os.makedirs(f'{TRAIN_DIRECTORY}{label}', exist_ok=True)\n",
        "        os.makedirs(f'{VALID_DIRECTORY}{label}', exist_ok=True)\n",
        "        os.makedirs(f'{TEST_DIRECTORY}{label}', exist_ok=True)\n",
        "\n",
        "    # Partition Images into Training, Validation, and Testing\n",
        "    for label in CLASSES:\n",
        "        numOfFiles = len(next(os.walk(f'{SOURCE_DIRECTORY}{label}/'))[2])\n",
        "\n",
        "        for image_file in random.sample(glob(f'{SOURCE_DIRECTORY}{label}/*'), int(numOfFiles * TRAIN_SPLIT)):\n",
        "            shutil.move(image_file, f'{TRAIN_DIRECTORY}{label}')\n",
        "\n",
        "        for image_file in random.sample(glob(f'{SOURCE_DIRECTORY}{label}/*'), int(numOfFiles * VALID_SPLIT)):\n",
        "            shutil.move(image_file, f'{VALID_DIRECTORY}{label}')\n",
        "\n",
        "        for image_file in glob(f'{SOURCE_DIRECTORY}{label}/*'):\n",
        "            shutil.move(image_file, f'{TEST_DIRECTORY}{label}')"
      ],
      "metadata": {
        "id": "RM21XJfKg2PK"
      },
      "execution_count": null,
      "outputs": []
    },
    {
      "cell_type": "markdown",
      "source": [
        "### Build Model"
      ],
      "metadata": {
        "id": "7e0duXPE4MhG"
      }
    },
    {
      "cell_type": "code",
      "source": [
        "def build_model(plot_network: bool = True, measure_performance: bool = True):\n",
        "    train_batches = ImageDataGenerator(preprocessing_function=PREPROCESSING_METHOD).flow_from_directory(\n",
        "        directory=TRAIN_DIRECTORY, classes=CLASSES, batch_size=128)\n",
        "    valid_batches = ImageDataGenerator(preprocessing_function=PREPROCESSING_METHOD).flow_from_directory(\n",
        "        directory=VALID_DIRECTORY, classes=CLASSES, batch_size=128, shuffle=False)\n",
        "    test_batches = ImageDataGenerator(preprocessing_function=PREPROCESSING_METHOD).flow_from_directory(\n",
        "        directory=TEST_DIRECTORY, classes=CLASSES, batch_size=128, shuffle=False)\n",
        "\n",
        "    model = Sequential(\n",
        "        get_neural_network() +\n",
        "        [layers.Dense(len(CLASSES), activation='softmax')]\n",
        "    )\n",
        "\n",
        "    model.compile(optimizer=get_optimizer(), loss='categorical_crossentropy',\n",
        "                  metrics=['accuracy'])\n",
        "    es = EarlyStopping(monitor='val_loss', mode='auto', verbose=1, patience=EARLY_STOPPING_PATIENCE)\n",
        "\n",
        "    fitted_model = model.fit(x=train_batches, validation_data=valid_batches, epochs=EPOCHS, callbacks=[es])\n",
        "    loss, accuracy = model.evaluate(x=test_batches, batch_size=128)\n",
        "\n",
        "    print(Fore.GREEN + u'\\n\\u2713 ' + f'Loss ==> {loss}')\n",
        "    print(Fore.GREEN + u'\\n\\u2713 ' + f'Accuracy ==> {accuracy}')\n",
        "\n",
        "    if plot_network:\n",
        "        plot_model(model, show_shapes=True, show_layer_activations=True)\n",
        "        display(Image('model.png'))\n",
        "        plt.show()\n",
        "        model.summary()\n",
        "\n",
        "    plt.rcParams[\"figure.figsize\"] = (15, 8)\n",
        "\n",
        "    if measure_performance:\n",
        "        plt.plot(fitted_model.history['accuracy'])\n",
        "        plt.plot(fitted_model.history['val_accuracy'])\n",
        "        plt.title('Model accuracy')\n",
        "        plt.ylabel('Accuracy')\n",
        "        plt.xlabel('Epoch')\n",
        "        plt.legend(['Train', 'Test'], loc='upper left')\n",
        "        plt.show()\n",
        "\n",
        "        plt.plot(fitted_model.history['loss'])\n",
        "        plt.plot(fitted_model.history['val_loss'])\n",
        "        plt.title('Model loss')\n",
        "        plt.ylabel('Loss')\n",
        "        plt.xlabel('Epoch')\n",
        "        plt.legend(['Train', 'Test'], loc='upper left')\n",
        "        plt.show()\n",
        "\n",
        "        y_pred = model.predict(test_batches)\n",
        "\n",
        "        labels = [f'{ar} ({en})' for ar, en in zip(CLASSES_AR, CLASSES)]\n",
        "        labels = [get_display(arabic_reshaper.reshape(label)) for label in labels]\n",
        "\n",
        "        ax = sns.heatmap(confusion_matrix(test_batches.classes, y_pred.argmax(axis=1)), annot=True, cmap='Blues',\n",
        "                         fmt='g')\n",
        "        ax.set_title('Confusion Matrix')\n",
        "        ax.set_xlabel('Predicted Values')\n",
        "        ax.set_ylabel('Actual Values')\n",
        "        ax.xaxis.set_ticklabels(labels)\n",
        "        ax.yaxis.set_ticklabels(labels)\n",
        "        plt.xticks(rotation=90)\n",
        "        plt.yticks(rotation=0)\n",
        "        plt.show()\n",
        "\n",
        "    return fitted_model"
      ],
      "metadata": {
        "id": "ZW9-46V-mttx"
      },
      "execution_count": null,
      "outputs": []
    },
    {
      "cell_type": "markdown",
      "source": [
        "# Capturing input"
      ],
      "metadata": {
        "id": "FiKgHdLV5h_T"
      }
    },
    {
      "cell_type": "code",
      "source": [
        "# @title Seed Value { run: \"auto\", display-mode: \"form\" }\n",
        "\n",
        "SEED = 42 # @param {type:\"integer\"}\n",
        "\n",
        "print(Fore.GREEN + u'\\u2713 ' + 'Attributes have been recorded successfully.\\n')    \n",
        "print(Style.RESET_ALL)"
      ],
      "metadata": {
        "id": "VCNfnNEG71bI"
      },
      "execution_count": null,
      "outputs": []
    },
    {
      "cell_type": "code",
      "source": [
        "# @title Neural Network Schematics { run: \"auto\", display-mode: \"form\" }\n",
        "\n",
        "NEURAL_NETWORK_TYPE = NeuralNetworkType.CONVOLUTIONAL_NEURAL_NETWORK_WITH_TRANSFER_LEARNING  # @param ['NeuralNetworkType.FULLY_CONNECTED_NETWORK', 'NeuralNetworkType.CONVOLUTIONAL_NEURAL_NETWORK', 'NeuralNetworkType.CONVOLUTIONAL_NEURAL_NETWORK_WITH_TRANSFER_LEARNING'] {type:'raw'}\n",
        "NEURAL_NETWORK_SIZE = NeuralNetworkSize.SMALL  # @param ['NeuralNetworkSize.NANO', 'NeuralNetworkSize.MICRO', 'NeuralNetworkSize.SMALL'] {type:'raw'}\n",
        "\n",
        "print(Fore.GREEN + u'\\u2713 ' + 'Attributes have been recorded successfully.\\n')    \n",
        "print(Style.RESET_ALL)\n",
        "\n",
        "if 'INEFFECTIVE' in NEURAL_NETWORK_TYPE.value:\n",
        "    print(Back.YELLOW + Fore.BLACK + u'\\u26A0 ' +\n",
        "          'An ineffective neural network model has been selected, this architecture may not be suitable for image tasks.')\n",
        "\n",
        "if 'SCRATCH' in NEURAL_NETWORK_TYPE.value:\n",
        "    print(Back.YELLOW + Fore.BLACK + u'\\u26A0 ' +\n",
        "          'A from-scratch neural network type has been selected, expected very long time runtimes to generalize.')\n",
        "    \n",
        "if 'INEFFECTIVE' in NEURAL_NETWORK_SIZE.value and NEURAL_NETWORK_TYPE != NeuralNetworkType.CONVOLUTIONAL_NEURAL_NETWORK_WITH_TRANSFER_LEARNING:\n",
        "    print(Back.YELLOW + Fore.BLACK + u'\\u26A0 ' +\n",
        "          'A very small neural network size has been selected, expect poor results.')"
      ],
      "metadata": {
        "id": "g_8D_Qbg_hkK"
      },
      "execution_count": null,
      "outputs": []
    },
    {
      "cell_type": "code",
      "source": [
        "# @title Hyperparameters { run: \"auto\", display-mode: \"form\" }\n",
        "\n",
        "HIDDEN_LAYER_ACTIVATION_FUNCTION_TYPE = HiddenLayerActivationFunctionType.RELU  # @param ['HiddenLayerActivationFunctionType.SIGMOID', 'HiddenLayerActivationFunctionType.TANH', 'HiddenLayerActivationFunctionType.RELU', 'HiddenLayerActivationFunctionType.LEAKY_RELU'] {type:'raw'}\n",
        "OPTIMIZER_TYPE = OptimizerType.ADAM  # @param ['OptimizerType.SGD', 'OptimizerType.RMS_PROP', 'OptimizerType.ADAM'] {type:'raw'}\n",
        "EPOCHS = 30  # @param {type:\"slider\", min:1, max:100, step:1}\n",
        "EARLY_STOPPING_PATIENCE = 10  # @param {type:\"integer\"}\n",
        "\n",
        "print(Fore.GREEN + u'\\u2713 ' + 'Attributes have been recorded successfully.\\n')\n",
        "print(Style.RESET_ALL)\n",
        "\n",
        "if 'INTENSIVE' in HIDDEN_LAYER_ACTIVATION_FUNCTION_TYPE.value:\n",
        "    print(Back.YELLOW + Fore.BLACK + u'\\u26A0 ' +\n",
        "          'A computationally intensive activation function has been selected, expect long runtimes.')\n",
        "\n",
        "if EPOCHS < 10:\n",
        "    print(Back.YELLOW + Fore.BLACK + u'\\u26A0 ' +\n",
        "          'The number of epochs is low, the model may not generalize well.')\n",
        "\n",
        "if EARLY_STOPPING_PATIENCE > 10:\n",
        "    print(Back.YELLOW + Fore.BLACK + u'\\u26A0 ' +\n",
        "          'Patience value is high, expect long runtimes.')\n",
        "\n",
        "print(Style.RESET_ALL)"
      ],
      "metadata": {
        "id": "tyYICoI-6Ps7"
      },
      "execution_count": null,
      "outputs": []
    },
    {
      "cell_type": "markdown",
      "source": [
        "# Methods Invocation"
      ],
      "metadata": {
        "id": "0e1-pG9A4SrD"
      }
    },
    {
      "cell_type": "code",
      "source": [
        "finalize_seed()"
      ],
      "metadata": {
        "id": "0RCW8uYPUH_i"
      },
      "execution_count": null,
      "outputs": []
    },
    {
      "cell_type": "code",
      "source": [
        "prime_dataset()"
      ],
      "metadata": {
        "id": "SVrT78Kvz05u"
      },
      "execution_count": null,
      "outputs": []
    },
    {
      "cell_type": "code",
      "source": [
        "model = build_model(measure_performance=True)"
      ],
      "metadata": {
        "id": "agrTSMsfy5Fx"
      },
      "execution_count": null,
      "outputs": []
    }
  ]
}